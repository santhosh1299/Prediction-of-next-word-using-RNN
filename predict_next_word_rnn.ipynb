{
  "nbformat": 4,
  "nbformat_minor": 0,
  "metadata": {
    "colab": {
      "name": "predict_next_word_rnn.ipynb",
      "provenance": [],
      "authorship_tag": "ABX9TyMlaAk4bTk9uRgy6ZRENFye",
      "include_colab_link": true
    },
    "kernelspec": {
      "name": "python3",
      "display_name": "Python 3"
    }
  },
  "cells": [
    {
      "cell_type": "markdown",
      "metadata": {
        "id": "view-in-github",
        "colab_type": "text"
      },
      "source": [
        "<a href=\"https://colab.research.google.com/github/santhosh1299/Next_word_prediction_RNN_NLP/blob/master/predict_next_word_rnn.ipynb\" target=\"_parent\"><img src=\"https://colab.research.google.com/assets/colab-badge.svg\" alt=\"Open In Colab\"/></a>"
      ]
    },
    {
      "cell_type": "code",
      "metadata": {
        "id": "_HdL6uxIzKdt",
        "colab_type": "code",
        "colab": {}
      },
      "source": [
        "from numpy import array\n",
        "from keras.preprocessing.text import Tokenizer\n",
        "from keras.utils import to_categorical\n",
        "from keras.models import Sequential\n",
        "from keras.layers import Dense\n",
        "from keras.layers import LSTM\n",
        "from keras.layers import Embedding\n",
        "import numpy as np"
      ],
      "execution_count": 19,
      "outputs": []
    },
    {
      "cell_type": "code",
      "metadata": {
        "id": "0bEpAtfNzq8h",
        "colab_type": "code",
        "colab": {}
      },
      "source": [
        "  data =  \"\"\"Google, LLC is an American multinational technology company that specializes in Internet-related services and products, which include online advertising technologies, a search engine, cloud computing, software, and hardware. It is considered one of the Big Four technology companies, alongside Amazon, Apple, and Microsoft\"\"\""
      ],
      "execution_count": 20,
      "outputs": []
    },
    {
      "cell_type": "code",
      "metadata": {
        "id": "hDWPy3I40kVQ",
        "colab_type": "code",
        "colab": {
          "base_uri": "https://localhost:8080/",
          "height": 791
        },
        "outputId": "d279d823-2e19-472d-8e9d-cc2bdb94cbe2"
      },
      "source": [
        "tokenizer = Tokenizer()\n",
        "tokenizer.fit_on_texts([data])\n",
        "encoded_data = tokenizer.texts_to_sequences([data])[0]\n",
        "encoded_data\n",
        "\n"
      ],
      "execution_count": 21,
      "outputs": [
        {
          "output_type": "execute_result",
          "data": {
            "text/plain": [
              "[4,\n",
              " 5,\n",
              " 2,\n",
              " 6,\n",
              " 7,\n",
              " 8,\n",
              " 3,\n",
              " 9,\n",
              " 10,\n",
              " 11,\n",
              " 12,\n",
              " 13,\n",
              " 14,\n",
              " 15,\n",
              " 1,\n",
              " 16,\n",
              " 17,\n",
              " 18,\n",
              " 19,\n",
              " 20,\n",
              " 21,\n",
              " 22,\n",
              " 23,\n",
              " 24,\n",
              " 25,\n",
              " 26,\n",
              " 27,\n",
              " 1,\n",
              " 28,\n",
              " 29,\n",
              " 2,\n",
              " 30,\n",
              " 31,\n",
              " 32,\n",
              " 33,\n",
              " 34,\n",
              " 35,\n",
              " 3,\n",
              " 36,\n",
              " 37,\n",
              " 38,\n",
              " 39,\n",
              " 1,\n",
              " 40]"
            ]
          },
          "metadata": {
            "tags": []
          },
          "execution_count": 21
        }
      ]
    },
    {
      "cell_type": "code",
      "metadata": {
        "id": "3T-aThx2n9FW",
        "colab_type": "code",
        "colab": {
          "base_uri": "https://localhost:8080/",
          "height": 721
        },
        "outputId": "9c096624-fb78-42b4-d2d7-cfef5f199112"
      },
      "source": [
        "tokenizer.word_index"
      ],
      "execution_count": 22,
      "outputs": [
        {
          "output_type": "execute_result",
          "data": {
            "text/plain": [
              "{'a': 22,\n",
              " 'advertising': 20,\n",
              " 'alongside': 37,\n",
              " 'amazon': 38,\n",
              " 'american': 7,\n",
              " 'an': 6,\n",
              " 'and': 1,\n",
              " 'apple': 39,\n",
              " 'big': 34,\n",
              " 'cloud': 25,\n",
              " 'companies': 36,\n",
              " 'company': 9,\n",
              " 'computing': 26,\n",
              " 'considered': 30,\n",
              " 'engine': 24,\n",
              " 'four': 35,\n",
              " 'google': 4,\n",
              " 'hardware': 28,\n",
              " 'in': 12,\n",
              " 'include': 18,\n",
              " 'internet': 13,\n",
              " 'is': 2,\n",
              " 'it': 29,\n",
              " 'llc': 5,\n",
              " 'microsoft': 40,\n",
              " 'multinational': 8,\n",
              " 'of': 32,\n",
              " 'one': 31,\n",
              " 'online': 19,\n",
              " 'products': 16,\n",
              " 'related': 14,\n",
              " 'search': 23,\n",
              " 'services': 15,\n",
              " 'software': 27,\n",
              " 'specializes': 11,\n",
              " 'technologies': 21,\n",
              " 'technology': 3,\n",
              " 'that': 10,\n",
              " 'the': 33,\n",
              " 'which': 17}"
            ]
          },
          "metadata": {
            "tags": []
          },
          "execution_count": 22
        }
      ]
    },
    {
      "cell_type": "code",
      "metadata": {
        "id": "6xKLYcaU1mPH",
        "colab_type": "code",
        "colab": {
          "base_uri": "https://localhost:8080/",
          "height": 35
        },
        "outputId": "7baf829c-ec48-487b-caa8-e4dde1af4983"
      },
      "source": [
        "vocab_size = len(tokenizer.word_index) + 1\n",
        "vocab_size "
      ],
      "execution_count": 23,
      "outputs": [
        {
          "output_type": "execute_result",
          "data": {
            "text/plain": [
              "41"
            ]
          },
          "metadata": {
            "tags": []
          },
          "execution_count": 23
        }
      ]
    },
    {
      "cell_type": "code",
      "metadata": {
        "id": "OhbfjJxR2VHI",
        "colab_type": "code",
        "colab": {
          "base_uri": "https://localhost:8080/",
          "height": 35
        },
        "outputId": "5737ec26-60a9-4f9c-8be8-e8a7bd7ea1bc"
      },
      "source": [
        "sequences = list()\n",
        "for i in range(1,len(encoded_data)):\n",
        "    sequence = encoded_data[i-1 : i+1 ]\n",
        "    sequences.append(sequence)\n",
        "print(\"Total number of sequences = \" ,len(sequences) )"
      ],
      "execution_count": 24,
      "outputs": [
        {
          "output_type": "stream",
          "text": [
            "Total number of sequences =  43\n"
          ],
          "name": "stdout"
        }
      ]
    },
    {
      "cell_type": "code",
      "metadata": {
        "id": "IGge2uT62Xc3",
        "colab_type": "code",
        "colab": {
          "base_uri": "https://localhost:8080/",
          "height": 774
        },
        "outputId": "3ac0f603-b4f4-487a-ebac-853b67985e01"
      },
      "source": [
        "sequences"
      ],
      "execution_count": 25,
      "outputs": [
        {
          "output_type": "execute_result",
          "data": {
            "text/plain": [
              "[[4, 5],\n",
              " [5, 2],\n",
              " [2, 6],\n",
              " [6, 7],\n",
              " [7, 8],\n",
              " [8, 3],\n",
              " [3, 9],\n",
              " [9, 10],\n",
              " [10, 11],\n",
              " [11, 12],\n",
              " [12, 13],\n",
              " [13, 14],\n",
              " [14, 15],\n",
              " [15, 1],\n",
              " [1, 16],\n",
              " [16, 17],\n",
              " [17, 18],\n",
              " [18, 19],\n",
              " [19, 20],\n",
              " [20, 21],\n",
              " [21, 22],\n",
              " [22, 23],\n",
              " [23, 24],\n",
              " [24, 25],\n",
              " [25, 26],\n",
              " [26, 27],\n",
              " [27, 1],\n",
              " [1, 28],\n",
              " [28, 29],\n",
              " [29, 2],\n",
              " [2, 30],\n",
              " [30, 31],\n",
              " [31, 32],\n",
              " [32, 33],\n",
              " [33, 34],\n",
              " [34, 35],\n",
              " [35, 3],\n",
              " [3, 36],\n",
              " [36, 37],\n",
              " [37, 38],\n",
              " [38, 39],\n",
              " [39, 1],\n",
              " [1, 40]]"
            ]
          },
          "metadata": {
            "tags": []
          },
          "execution_count": 25
        }
      ]
    },
    {
      "cell_type": "code",
      "metadata": {
        "id": "AlibSqy-_QJh",
        "colab_type": "code",
        "colab": {}
      },
      "source": [
        "sequences = array(sequences)\n",
        "x,y = sequences[:,0],sequences[:,1]\n"
      ],
      "execution_count": 26,
      "outputs": []
    },
    {
      "cell_type": "markdown",
      "metadata": {
        "id": "sQVX-MewKy9E",
        "colab_type": "text"
      },
      "source": [
        "One hot encoding the output variable"
      ]
    },
    {
      "cell_type": "code",
      "metadata": {
        "id": "FNcjrYG8AVRh",
        "colab_type": "code",
        "colab": {
          "base_uri": "https://localhost:8080/",
          "height": 70
        },
        "outputId": "ff72f36c-0616-409a-f26b-3d1cb3f20056"
      },
      "source": [
        "y = to_categorical(y, num_classes = vocab_size)\n",
        "y[:1]"
      ],
      "execution_count": 27,
      "outputs": [
        {
          "output_type": "execute_result",
          "data": {
            "text/plain": [
              "array([[0., 0., 0., 0., 0., 1., 0., 0., 0., 0., 0., 0., 0., 0., 0., 0.,\n",
              "        0., 0., 0., 0., 0., 0., 0., 0., 0., 0., 0., 0., 0., 0., 0., 0.,\n",
              "        0., 0., 0., 0., 0., 0., 0., 0., 0.]], dtype=float32)"
            ]
          },
          "metadata": {
            "tags": []
          },
          "execution_count": 27
        }
      ]
    },
    {
      "cell_type": "markdown",
      "metadata": {
        "id": "ZqbBynqELqjJ",
        "colab_type": "text"
      },
      "source": [
        "Model "
      ]
    },
    {
      "cell_type": "code",
      "metadata": {
        "id": "cJFmpav2Lukc",
        "colab_type": "code",
        "colab": {
          "base_uri": "https://localhost:8080/",
          "height": 281
        },
        "outputId": "cfe169f9-67fe-4543-f87b-47d27b990180"
      },
      "source": [
        "model = Sequential()\n",
        "model.add(Embedding(vocab_size,10,input_length=1))\n",
        "model.add(LSTM(50))\n",
        "model.add(Dense(vocab_size,activation='softmax'))\n",
        "print(model.summary())"
      ],
      "execution_count": 28,
      "outputs": [
        {
          "output_type": "stream",
          "text": [
            "Model: \"sequential_1\"\n",
            "_________________________________________________________________\n",
            "Layer (type)                 Output Shape              Param #   \n",
            "=================================================================\n",
            "embedding_1 (Embedding)      (None, 1, 10)             410       \n",
            "_________________________________________________________________\n",
            "lstm_1 (LSTM)                (None, 50)                12200     \n",
            "_________________________________________________________________\n",
            "dense_1 (Dense)              (None, 41)                2091      \n",
            "=================================================================\n",
            "Total params: 14,701\n",
            "Trainable params: 14,701\n",
            "Non-trainable params: 0\n",
            "_________________________________________________________________\n",
            "None\n"
          ],
          "name": "stdout"
        }
      ]
    },
    {
      "cell_type": "code",
      "metadata": {
        "id": "fnLrAx9IPI0R",
        "colab_type": "code",
        "colab": {}
      },
      "source": [
        "model.compile(loss = 'categorical_crossentropy' , optimizer= 'adam' , metrics = [ 'accuracy'])"
      ],
      "execution_count": 29,
      "outputs": []
    },
    {
      "cell_type": "code",
      "metadata": {
        "id": "DwrO829PP9cc",
        "colab_type": "code",
        "colab": {
          "base_uri": "https://localhost:8080/",
          "height": 1000
        },
        "outputId": "cf40328c-2308-48c3-cac1-7fab29a6b3fb"
      },
      "source": [
        "model.fit(x,y,epochs = 100,steps_per_epoch=43)"
      ],
      "execution_count": 33,
      "outputs": [
        {
          "output_type": "stream",
          "text": [
            "Epoch 1/100\n",
            "43/43 [==============================] - 0s 2ms/step - loss: 0.2079 - accuracy: 0.8605\n",
            "Epoch 2/100\n",
            "43/43 [==============================] - 0s 2ms/step - loss: 0.2044 - accuracy: 0.9070\n",
            "Epoch 3/100\n",
            "43/43 [==============================] - 0s 2ms/step - loss: 0.2034 - accuracy: 0.8837\n",
            "Epoch 4/100\n",
            "43/43 [==============================] - 0s 2ms/step - loss: 0.2002 - accuracy: 0.8372\n",
            "Epoch 5/100\n",
            "43/43 [==============================] - 0s 2ms/step - loss: 0.1954 - accuracy: 0.8837\n",
            "Epoch 6/100\n",
            "43/43 [==============================] - 0s 2ms/step - loss: 0.1945 - accuracy: 0.8837\n",
            "Epoch 7/100\n",
            "43/43 [==============================] - 0s 2ms/step - loss: 0.1954 - accuracy: 0.8372\n",
            "Epoch 8/100\n",
            "43/43 [==============================] - 0s 2ms/step - loss: 0.1881 - accuracy: 0.9070\n",
            "Epoch 9/100\n",
            "43/43 [==============================] - 0s 2ms/step - loss: 0.1849 - accuracy: 0.9070\n",
            "Epoch 10/100\n",
            "43/43 [==============================] - 0s 2ms/step - loss: 0.1849 - accuracy: 0.8837\n",
            "Epoch 11/100\n",
            "43/43 [==============================] - 0s 3ms/step - loss: 0.1857 - accuracy: 0.8372\n",
            "Epoch 12/100\n",
            "43/43 [==============================] - 0s 2ms/step - loss: 0.1822 - accuracy: 0.8372\n",
            "Epoch 13/100\n",
            "43/43 [==============================] - 0s 2ms/step - loss: 0.1799 - accuracy: 0.8372\n",
            "Epoch 14/100\n",
            "43/43 [==============================] - 0s 2ms/step - loss: 0.1828 - accuracy: 0.8605\n",
            "Epoch 15/100\n",
            "43/43 [==============================] - 0s 2ms/step - loss: 0.1750 - accuracy: 0.8605\n",
            "Epoch 16/100\n",
            "43/43 [==============================] - 0s 2ms/step - loss: 0.1792 - accuracy: 0.8605\n",
            "Epoch 17/100\n",
            "43/43 [==============================] - 0s 2ms/step - loss: 0.1759 - accuracy: 0.8605\n",
            "Epoch 18/100\n",
            "43/43 [==============================] - 0s 2ms/step - loss: 0.1727 - accuracy: 0.8837\n",
            "Epoch 19/100\n",
            "43/43 [==============================] - 0s 2ms/step - loss: 0.1730 - accuracy: 0.8605\n",
            "Epoch 20/100\n",
            "43/43 [==============================] - 0s 2ms/step - loss: 0.1728 - accuracy: 0.9070\n",
            "Epoch 21/100\n",
            "43/43 [==============================] - 0s 2ms/step - loss: 0.1734 - accuracy: 0.8605\n",
            "Epoch 22/100\n",
            "43/43 [==============================] - 0s 2ms/step - loss: 0.1728 - accuracy: 0.9070\n",
            "Epoch 23/100\n",
            "43/43 [==============================] - 0s 2ms/step - loss: 0.1669 - accuracy: 0.8605\n",
            "Epoch 24/100\n",
            "43/43 [==============================] - 0s 2ms/step - loss: 0.1691 - accuracy: 0.8837\n",
            "Epoch 25/100\n",
            "43/43 [==============================] - 0s 2ms/step - loss: 0.1669 - accuracy: 0.8605\n",
            "Epoch 26/100\n",
            "43/43 [==============================] - 0s 2ms/step - loss: 0.1697 - accuracy: 0.8605\n",
            "Epoch 27/100\n",
            "43/43 [==============================] - 0s 2ms/step - loss: 0.1681 - accuracy: 0.8837\n",
            "Epoch 28/100\n",
            "43/43 [==============================] - 0s 2ms/step - loss: 0.1672 - accuracy: 0.8605\n",
            "Epoch 29/100\n",
            "43/43 [==============================] - 0s 2ms/step - loss: 0.1660 - accuracy: 0.8605\n",
            "Epoch 30/100\n",
            "43/43 [==============================] - 0s 2ms/step - loss: 0.1684 - accuracy: 0.8837\n",
            "Epoch 31/100\n",
            "43/43 [==============================] - 0s 2ms/step - loss: 0.1636 - accuracy: 0.8837\n",
            "Epoch 32/100\n",
            "43/43 [==============================] - 0s 2ms/step - loss: 0.1635 - accuracy: 0.8837\n",
            "Epoch 33/100\n",
            "43/43 [==============================] - 0s 2ms/step - loss: 0.1661 - accuracy: 0.8605\n",
            "Epoch 34/100\n",
            "43/43 [==============================] - 0s 2ms/step - loss: 0.1655 - accuracy: 0.8605\n",
            "Epoch 35/100\n",
            "43/43 [==============================] - 0s 2ms/step - loss: 0.1649 - accuracy: 0.8605\n",
            "Epoch 36/100\n",
            "43/43 [==============================] - 0s 2ms/step - loss: 0.1627 - accuracy: 0.8837\n",
            "Epoch 37/100\n",
            "43/43 [==============================] - 0s 2ms/step - loss: 0.1606 - accuracy: 0.8605\n",
            "Epoch 38/100\n",
            "43/43 [==============================] - 0s 2ms/step - loss: 0.1638 - accuracy: 0.8605\n",
            "Epoch 39/100\n",
            "43/43 [==============================] - 0s 2ms/step - loss: 0.1619 - accuracy: 0.9070\n",
            "Epoch 40/100\n",
            "43/43 [==============================] - 0s 2ms/step - loss: 0.1640 - accuracy: 0.8605\n",
            "Epoch 41/100\n",
            "43/43 [==============================] - 0s 2ms/step - loss: 0.1618 - accuracy: 0.8372\n",
            "Epoch 42/100\n",
            "43/43 [==============================] - 0s 2ms/step - loss: 0.1625 - accuracy: 0.8372\n",
            "Epoch 43/100\n",
            "43/43 [==============================] - 0s 2ms/step - loss: 0.1609 - accuracy: 0.8837\n",
            "Epoch 44/100\n",
            "43/43 [==============================] - 0s 2ms/step - loss: 0.1587 - accuracy: 0.8837\n",
            "Epoch 45/100\n",
            "43/43 [==============================] - 0s 2ms/step - loss: 0.1617 - accuracy: 0.8372\n",
            "Epoch 46/100\n",
            "43/43 [==============================] - 0s 3ms/step - loss: 0.1587 - accuracy: 0.8837\n",
            "Epoch 47/100\n",
            "43/43 [==============================] - 0s 2ms/step - loss: 0.1601 - accuracy: 0.8605\n",
            "Epoch 48/100\n",
            "43/43 [==============================] - 0s 2ms/step - loss: 0.1633 - accuracy: 0.8372\n",
            "Epoch 49/100\n",
            "43/43 [==============================] - 0s 2ms/step - loss: 0.1581 - accuracy: 0.8837\n",
            "Epoch 50/100\n",
            "43/43 [==============================] - 0s 2ms/step - loss: 0.1606 - accuracy: 0.8372\n",
            "Epoch 51/100\n",
            "43/43 [==============================] - 0s 2ms/step - loss: 0.1595 - accuracy: 0.9070\n",
            "Epoch 52/100\n",
            "43/43 [==============================] - 0s 2ms/step - loss: 0.1593 - accuracy: 0.8837\n",
            "Epoch 53/100\n",
            "43/43 [==============================] - 0s 2ms/step - loss: 0.1617 - accuracy: 0.8605\n",
            "Epoch 54/100\n",
            "43/43 [==============================] - 0s 2ms/step - loss: 0.1594 - accuracy: 0.8605\n",
            "Epoch 55/100\n",
            "43/43 [==============================] - 0s 2ms/step - loss: 0.1593 - accuracy: 0.8837\n",
            "Epoch 56/100\n",
            "43/43 [==============================] - 0s 3ms/step - loss: 0.1586 - accuracy: 0.8837\n",
            "Epoch 57/100\n",
            "43/43 [==============================] - 0s 2ms/step - loss: 0.1575 - accuracy: 0.8837\n",
            "Epoch 58/100\n",
            "43/43 [==============================] - 0s 2ms/step - loss: 0.1571 - accuracy: 0.8837\n",
            "Epoch 59/100\n",
            "43/43 [==============================] - 0s 2ms/step - loss: 0.1561 - accuracy: 0.8837\n",
            "Epoch 60/100\n",
            "43/43 [==============================] - 0s 2ms/step - loss: 0.1579 - accuracy: 0.8372\n",
            "Epoch 61/100\n",
            "43/43 [==============================] - 0s 2ms/step - loss: 0.1595 - accuracy: 0.8837\n",
            "Epoch 62/100\n",
            "43/43 [==============================] - 0s 2ms/step - loss: 0.1552 - accuracy: 0.9070\n",
            "Epoch 63/100\n",
            "43/43 [==============================] - 0s 2ms/step - loss: 0.1521 - accuracy: 0.8837\n",
            "Epoch 64/100\n",
            "43/43 [==============================] - 0s 2ms/step - loss: 0.1574 - accuracy: 0.9070\n",
            "Epoch 65/100\n",
            "43/43 [==============================] - 0s 2ms/step - loss: 0.1555 - accuracy: 0.8605\n",
            "Epoch 66/100\n",
            "43/43 [==============================] - 0s 2ms/step - loss: 0.1564 - accuracy: 0.8837\n",
            "Epoch 67/100\n",
            "43/43 [==============================] - 0s 2ms/step - loss: 0.1554 - accuracy: 0.8837\n",
            "Epoch 68/100\n",
            "43/43 [==============================] - 0s 2ms/step - loss: 0.1596 - accuracy: 0.8605\n",
            "Epoch 69/100\n",
            "43/43 [==============================] - 0s 2ms/step - loss: 0.1561 - accuracy: 0.8605\n",
            "Epoch 70/100\n",
            "43/43 [==============================] - 0s 2ms/step - loss: 0.1551 - accuracy: 0.8837\n",
            "Epoch 71/100\n",
            "43/43 [==============================] - 0s 2ms/step - loss: 0.1559 - accuracy: 0.8837\n",
            "Epoch 72/100\n",
            "43/43 [==============================] - 0s 2ms/step - loss: 0.1539 - accuracy: 0.8605\n",
            "Epoch 73/100\n",
            "43/43 [==============================] - 0s 2ms/step - loss: 0.1583 - accuracy: 0.8605\n",
            "Epoch 74/100\n",
            "43/43 [==============================] - 0s 2ms/step - loss: 0.1524 - accuracy: 0.8605\n",
            "Epoch 75/100\n",
            "43/43 [==============================] - 0s 3ms/step - loss: 0.1558 - accuracy: 0.8605\n",
            "Epoch 76/100\n",
            "43/43 [==============================] - 0s 3ms/step - loss: 0.1515 - accuracy: 0.8605\n",
            "Epoch 77/100\n",
            "43/43 [==============================] - 0s 3ms/step - loss: 0.1547 - accuracy: 0.8605\n",
            "Epoch 78/100\n",
            "43/43 [==============================] - 0s 2ms/step - loss: 0.1510 - accuracy: 0.9070\n",
            "Epoch 79/100\n",
            "43/43 [==============================] - 0s 2ms/step - loss: 0.1536 - accuracy: 0.8605\n",
            "Epoch 80/100\n",
            "43/43 [==============================] - 0s 2ms/step - loss: 0.1531 - accuracy: 0.8837\n",
            "Epoch 81/100\n",
            "43/43 [==============================] - 0s 2ms/step - loss: 0.1540 - accuracy: 0.8605\n",
            "Epoch 82/100\n",
            "43/43 [==============================] - 0s 2ms/step - loss: 0.1569 - accuracy: 0.8837\n",
            "Epoch 83/100\n",
            "43/43 [==============================] - 0s 2ms/step - loss: 0.1551 - accuracy: 0.8837\n",
            "Epoch 84/100\n",
            "43/43 [==============================] - 0s 2ms/step - loss: 0.1545 - accuracy: 0.8837\n",
            "Epoch 85/100\n",
            "43/43 [==============================] - 0s 3ms/step - loss: 0.1522 - accuracy: 0.8605\n",
            "Epoch 86/100\n",
            "43/43 [==============================] - 0s 3ms/step - loss: 0.1552 - accuracy: 0.8837\n",
            "Epoch 87/100\n",
            "43/43 [==============================] - 0s 2ms/step - loss: 0.1528 - accuracy: 0.8837\n",
            "Epoch 88/100\n",
            "43/43 [==============================] - 0s 2ms/step - loss: 0.1531 - accuracy: 0.8605\n",
            "Epoch 89/100\n",
            "43/43 [==============================] - 0s 2ms/step - loss: 0.1535 - accuracy: 0.8605\n",
            "Epoch 90/100\n",
            "43/43 [==============================] - 0s 2ms/step - loss: 0.1540 - accuracy: 0.8605\n",
            "Epoch 91/100\n",
            "43/43 [==============================] - 0s 2ms/step - loss: 0.1519 - accuracy: 0.8837\n",
            "Epoch 92/100\n",
            "43/43 [==============================] - 0s 2ms/step - loss: 0.1532 - accuracy: 0.8605\n",
            "Epoch 93/100\n",
            "43/43 [==============================] - 0s 2ms/step - loss: 0.1538 - accuracy: 0.8605\n",
            "Epoch 94/100\n",
            "43/43 [==============================] - 0s 2ms/step - loss: 0.1509 - accuracy: 0.8605\n",
            "Epoch 95/100\n",
            "43/43 [==============================] - 0s 2ms/step - loss: 0.1538 - accuracy: 0.8605\n",
            "Epoch 96/100\n",
            "43/43 [==============================] - 0s 2ms/step - loss: 0.1541 - accuracy: 0.8605\n",
            "Epoch 97/100\n",
            "43/43 [==============================] - 0s 2ms/step - loss: 0.1520 - accuracy: 0.8605\n",
            "Epoch 98/100\n",
            "43/43 [==============================] - 0s 2ms/step - loss: 0.1519 - accuracy: 0.8605\n",
            "Epoch 99/100\n",
            "43/43 [==============================] - 0s 2ms/step - loss: 0.1515 - accuracy: 0.8837\n",
            "Epoch 100/100\n",
            "43/43 [==============================] - 0s 2ms/step - loss: 0.1536 - accuracy: 0.9070\n"
          ],
          "name": "stdout"
        },
        {
          "output_type": "execute_result",
          "data": {
            "text/plain": [
              "<tensorflow.python.keras.callbacks.History at 0x7f1a774c3668>"
            ]
          },
          "metadata": {
            "tags": []
          },
          "execution_count": 33
        }
      ]
    },
    {
      "cell_type": "code",
      "metadata": {
        "id": "rtw5xBN5QGe1",
        "colab_type": "code",
        "colab": {}
      },
      "source": [
        "def generate_seq_pipeline(model , tokenizer , enter_text , n_pred ):\n",
        "  in_text , result = enter_text ,enter_text\n",
        "  for k in range(n_pred):\n",
        "    encoded = tokenizer.texts_to_sequences([in_text])[0]\n",
        "    encoded = array(encoded)\n",
        "\n",
        "    yhat = np.argmax(model.predict(encoded), axis=-1)\n",
        "\n",
        "    out_word = ''\n",
        "\n",
        "    for word,index in tokenizer.word_index.items():\n",
        "      if index == yhat:\n",
        "        out_word = word\n",
        "        break\n",
        "    in_text ,result = out_word , result +' '+ out_word\n",
        "  return result\n",
        "     "
      ],
      "execution_count": 31,
      "outputs": []
    },
    {
      "cell_type": "code",
      "metadata": {
        "id": "EF2xj55-wuSk",
        "colab_type": "code",
        "colab": {
          "base_uri": "https://localhost:8080/",
          "height": 35
        },
        "outputId": "1d5dc203-62ff-48f9-bf2a-08a0c4b76c7b"
      },
      "source": [
        "  print(generate_seq_pipeline(model,tokenizer,'is',4))"
      ],
      "execution_count": 36,
      "outputs": [
        {
          "output_type": "stream",
          "text": [
            "is considered one of the\n"
          ],
          "name": "stdout"
        }
      ]
    },
    {
      "cell_type": "code",
      "metadata": {
        "id": "QA_rQPTZw_Rr",
        "colab_type": "code",
        "colab": {}
      },
      "source": [
        ""
      ],
      "execution_count": 32,
      "outputs": []
    }
  ]
}